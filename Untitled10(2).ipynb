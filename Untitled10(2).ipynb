{
 "cells": [
  {
   "cell_type": "code",
   "execution_count": 7,
   "id": "ce133aab-6cc6-4e8c-931e-1bdacad01591",
   "metadata": {},
   "outputs": [
    {
     "ename": "SyntaxError",
     "evalue": "invalid syntax (799797537.py, line 1)",
     "output_type": "error",
     "traceback": [
      "\u001b[0;36m  Cell \u001b[0;32mIn[7], line 1\u001b[0;36m\u001b[0m\n\u001b[0;31m    name@ = \"Dajiba Mane\"\u001b[0m\n\u001b[0m          ^\u001b[0m\n\u001b[0;31mSyntaxError\u001b[0m\u001b[0;31m:\u001b[0m invalid syntax\n"
     ]
    }
   ],
   "source": [
    "name@ = \"Dajiba Mane\""
   ]
  },
  {
   "cell_type": "code",
   "execution_count": 3,
   "id": "2ad219d7-15ee-4e13-aa18-93aae6d2975f",
   "metadata": {},
   "outputs": [
    {
     "ename": "SyntaxError",
     "evalue": "invalid syntax (4183275391.py, line 1)",
     "output_type": "error",
     "traceback": [
      "\u001b[0;36m  Cell \u001b[0;32mIn[3], line 1\u001b[0;36m\u001b[0m\n\u001b[0;31m    name_\"Dajiba mane\"\u001b[0m\n\u001b[0m         ^\u001b[0m\n\u001b[0;31mSyntaxError\u001b[0m\u001b[0;31m:\u001b[0m invalid syntax\n"
     ]
    }
   ],
   "source": [
    "name_\"Dajiba mane\"\n",
    "Skip to Main\n",
    "Untitled10\n",
    "Last Checkpoint: 1 hour ago\n",
    "[Python 3 (ipykernel)]\n",
    "name@ = \"Dajiba Mane\"\n",
    "\n",
    "  Cell In[7], line 1\n",
    "    name@ = \"Dajiba Mane\"\n",
    "          ^\n",
    "SyntaxError: invalid syntax\n",
    "\n",
    "name_\"Dajiba mane\"\n",
    "\n",
    "  Cell In[3], line 1\n",
    "    name_\"Dajiba mane\"\n",
    "         ^\n",
    "SyntaxError: invalid syntax\n",
    "\n",
    "_=\"Dajiba mane\"\n",
    "break = \"Dajiba mane\"\n",
    "\n",
    "  Cell In[8], line 1\n",
    "    break = \"Dajiba mane\"\n",
    "          ^\n",
    "SyntaxError: invalid syntax\n",
    "\n",
    "49=\"Dajiba mane\"\n",
    "\n",
    "  Cell In[9], line 1\n",
    "    49=\"Dajiba mane\"\n",
    "    ^\n",
    "SyntaxError: cannot assign to literal here. Maybe you meant '==' instead of '='?\n",
    "\n",
    "roll_no_49 = \"Dajiba mane\"\n",
    "roll_no_49\n",
    "\n",
    "'Dajiba mane'\n",
    "\n",
    "true = \"Dajiba mane\"\n",
    "na me = \"Dajiba mane\"\n",
    "\n",
    "  Cell In[14], line 1\n",
    "    na me = \"Dajiba mane\"\n",
    "       ^\n",
    "SyntaxError: invalid syntax\n",
    "\n",
    "age = 35\n",
    "age = 35\n",
    "age\n",
    "\n",
    "35\n",
    "\n",
    "age\n",
    "\n",
    "35\n",
    "\n",
    "23name = \"Dajiba mane\"\n",
    "\n",
    "  Cell In[20], line 1\n",
    "    23name = \"Dajiba mane\"\n",
    "     ^\n",
    "SyntaxError: invalid decimal literal\n",
    "\n",
    "name23 = \"Dajiba mane\"\n",
    "a, b, c, = 23,67,45\n",
    "a\n",
    "\n",
    "23\n",
    "\n",
    "b\n",
    "\n",
    "67\n"
   ]
  },
  {
   "cell_type": "code",
   "execution_count": 7,
   "id": "ba2ff8d5-94d6-4afa-ba89-64929ff832db",
   "metadata": {},
   "outputs": [],
   "source": [
    "_=\"Dajiba mane\""
   ]
  },
  {
   "cell_type": "code",
   "execution_count": 8,
   "id": "f47429ea-213c-49f4-9ce3-f8572d5b3926",
   "metadata": {},
   "outputs": [
    {
     "ename": "SyntaxError",
     "evalue": "invalid syntax (3621622660.py, line 1)",
     "output_type": "error",
     "traceback": [
      "\u001b[0;36m  Cell \u001b[0;32mIn[8], line 1\u001b[0;36m\u001b[0m\n\u001b[0;31m    break = \"Dajiba mane\"\u001b[0m\n\u001b[0m          ^\u001b[0m\n\u001b[0;31mSyntaxError\u001b[0m\u001b[0;31m:\u001b[0m invalid syntax\n"
     ]
    }
   ],
   "source": [
    "break = \"Dajiba mane\""
   ]
  },
  {
   "cell_type": "code",
   "execution_count": 9,
   "id": "31bd524a-6721-43bd-b95d-18fc09f71bcd",
   "metadata": {},
   "outputs": [
    {
     "ename": "SyntaxError",
     "evalue": "cannot assign to literal here. Maybe you meant '==' instead of '='? (1309559317.py, line 1)",
     "output_type": "error",
     "traceback": [
      "\u001b[0;36m  Cell \u001b[0;32mIn[9], line 1\u001b[0;36m\u001b[0m\n\u001b[0;31m    49=\"Dajiba mane\"\u001b[0m\n\u001b[0m    ^\u001b[0m\n\u001b[0;31mSyntaxError\u001b[0m\u001b[0;31m:\u001b[0m cannot assign to literal here. Maybe you meant '==' instead of '='?\n"
     ]
    }
   ],
   "source": [
    "49=\"Dajiba mane\""
   ]
  },
  {
   "cell_type": "code",
   "execution_count": 10,
   "id": "8c6b85f9-5db0-48ef-8073-39ca131aa8c1",
   "metadata": {},
   "outputs": [],
   "source": [
    "roll_no_49 = \"Dajiba mane\""
   ]
  },
  {
   "cell_type": "code",
   "execution_count": 11,
   "id": "b08e3d18-eade-48c9-8a46-359b7affd341",
   "metadata": {},
   "outputs": [
    {
     "data": {
      "text/plain": [
       "'Dajiba mane'"
      ]
     },
     "execution_count": 11,
     "metadata": {},
     "output_type": "execute_result"
    }
   ],
   "source": [
    "roll_no_49"
   ]
  },
  {
   "cell_type": "code",
   "execution_count": 12,
   "id": "d9db45b3-0858-4c03-944d-7a5ab222299d",
   "metadata": {},
   "outputs": [],
   "source": [
    "true = \"Dajiba mane\""
   ]
  },
  {
   "cell_type": "code",
   "execution_count": 14,
   "id": "3fb3512e-d5e8-4494-8d8e-965b8329aed0",
   "metadata": {},
   "outputs": [
    {
     "ename": "SyntaxError",
     "evalue": "invalid syntax (186949258.py, line 1)",
     "output_type": "error",
     "traceback": [
      "\u001b[0;36m  Cell \u001b[0;32mIn[14], line 1\u001b[0;36m\u001b[0m\n\u001b[0;31m    na me = \"Dajiba mane\"\u001b[0m\n\u001b[0m       ^\u001b[0m\n\u001b[0;31mSyntaxError\u001b[0m\u001b[0;31m:\u001b[0m invalid syntax\n"
     ]
    }
   ],
   "source": [
    "na me = \"Dajiba mane\""
   ]
  },
  {
   "cell_type": "code",
   "execution_count": 16,
   "id": "6105c484-e3ba-48e1-a9cd-a7d9b7de9ce3",
   "metadata": {},
   "outputs": [],
   "source": [
    "age = 35"
   ]
  },
  {
   "cell_type": "code",
   "execution_count": 17,
   "id": "ac741d42-02c8-4c0f-9fee-69c6a9eb63fa",
   "metadata": {},
   "outputs": [],
   "source": [
    "age = 35"
   ]
  },
  {
   "cell_type": "code",
   "execution_count": 18,
   "id": "0254f2c7-1f4a-4702-8f0d-d9a48b1bdb86",
   "metadata": {},
   "outputs": [
    {
     "data": {
      "text/plain": [
       "35"
      ]
     },
     "execution_count": 18,
     "metadata": {},
     "output_type": "execute_result"
    }
   ],
   "source": [
    "age"
   ]
  },
  {
   "cell_type": "code",
   "execution_count": 19,
   "id": "e82105f9-cf14-45fd-bb9a-98babd8732fe",
   "metadata": {},
   "outputs": [
    {
     "data": {
      "text/plain": [
       "35"
      ]
     },
     "execution_count": 19,
     "metadata": {},
     "output_type": "execute_result"
    }
   ],
   "source": [
    "age"
   ]
  },
  {
   "cell_type": "code",
   "execution_count": 20,
   "id": "011f9acc-f934-4041-b096-047e65f14aed",
   "metadata": {},
   "outputs": [
    {
     "ename": "SyntaxError",
     "evalue": "invalid decimal literal (3075133178.py, line 1)",
     "output_type": "error",
     "traceback": [
      "\u001b[0;36m  Cell \u001b[0;32mIn[20], line 1\u001b[0;36m\u001b[0m\n\u001b[0;31m    23name = \"Dajiba mane\"\u001b[0m\n\u001b[0m     ^\u001b[0m\n\u001b[0;31mSyntaxError\u001b[0m\u001b[0;31m:\u001b[0m invalid decimal literal\n"
     ]
    }
   ],
   "source": [
    "23name = \"Dajiba mane\""
   ]
  },
  {
   "cell_type": "code",
   "execution_count": 24,
   "id": "1481b4f9-cd17-473f-b576-053a52bb7483",
   "metadata": {},
   "outputs": [],
   "source": [
    "name23 = \"Dajiba mane\""
   ]
  },
  {
   "cell_type": "code",
   "execution_count": 27,
   "id": "6285bff2-8cca-4043-bb6b-ff0a7d589cd3",
   "metadata": {},
   "outputs": [],
   "source": [
    "a, b, c, = 23,67,45"
   ]
  },
  {
   "cell_type": "code",
   "execution_count": 28,
   "id": "4eedd717-2201-4bd3-a752-f497e52c3711",
   "metadata": {},
   "outputs": [
    {
     "data": {
      "text/plain": [
       "23"
      ]
     },
     "execution_count": 28,
     "metadata": {},
     "output_type": "execute_result"
    }
   ],
   "source": [
    "a"
   ]
  },
  {
   "cell_type": "code",
   "execution_count": 34,
   "id": "2b148d9e-41f7-4864-b024-e136f6edbe14",
   "metadata": {},
   "outputs": [
    {
     "name": "stdout",
     "output_type": "stream",
     "text": [
      "67\n"
     ]
    }
   ],
   "source": [
    "b"
   ]
  },
  {
   "cell_type": "raw",
   "id": "dfca32bd-c739-4a8c-82bc-a3e8809ca1ee",
   "metadata": {},
   "source": [
    "c"
   ]
  },
  {
   "cell_type": "raw",
   "id": "b07ccf2b-7766-43e6-a2e6-eada8812d87a",
   "metadata": {},
   "source": [
    "45"
   ]
  },
  {
   "cell_type": "code",
   "execution_count": 39,
   "id": "32db9e51-fab5-4fa3-a90a-586ba04f2109",
   "metadata": {},
   "outputs": [
    {
     "name": "stdout",
     "output_type": "stream",
     "text": [
      "bimaraj lad\n"
     ]
    }
   ],
   "source": [
    "# library function or in-built function\n",
    "print(\"bimaraj lad\")"
   ]
  },
  {
   "cell_type": "code",
   "execution_count": 40,
   "id": "a7c205e1-ed44-4a16-9c52-e47fda5dce01",
   "metadata": {},
   "outputs": [
    {
     "name": "stdout",
     "output_type": "stream",
     "text": [
      "23\n",
      "a\n"
     ]
    }
   ],
   "source": [
    "print(a)\n",
    "print(\"a\")"
   ]
  },
  {
   "cell_type": "raw",
   "id": "169a633b-bc59-4cff-baab-d9b6d198fda3",
   "metadata": {
    "scrolled": true
   },
   "source": [
    "print(a,b,c)"
   ]
  },
  {
   "cell_type": "raw",
   "id": "911a0547-1cab-4385-bba7-aee85619b87b",
   "metadata": {
    "scrolled": true
   },
   "source": [
    "23,67,45"
   ]
  },
  {
   "cell_type": "code",
   "execution_count": 43,
   "id": "c01bef44-5282-4068-a19d-f9e8ec5c4942",
   "metadata": {},
   "outputs": [
    {
     "name": "stdout",
     "output_type": "stream",
     "text": [
      "23,67,45\n"
     ]
    }
   ],
   "source": [
    "# o/p-->23 ,67, 45\n",
    "print(23, 67, 45, sep=',')"
   ]
  },
  {
   "cell_type": "code",
   "execution_count": 44,
   "id": "24bfc754-d05d-4ef1-a3c9-f99a322a3281",
   "metadata": {},
   "outputs": [],
   "source": [
    "name = \"Dajiba mane\""
   ]
  },
  {
   "cell_type": "code",
   "execution_count": 45,
   "id": "374556b2-c4c0-488d-b670-8066733ceea6",
   "metadata": {},
   "outputs": [
    {
     "data": {
      "text/plain": [
       "str"
      ]
     },
     "execution_count": 45,
     "metadata": {},
     "output_type": "execute_result"
    }
   ],
   "source": [
    "type(name)"
   ]
  },
  {
   "cell_type": "code",
   "execution_count": 46,
   "id": "8c7cb6de-d3dd-46f5-b89e-59ea7988ddb1",
   "metadata": {},
   "outputs": [],
   "source": [
    "name1 ='Dajiba mane'"
   ]
  },
  {
   "cell_type": "code",
   "execution_count": 47,
   "id": "f66067a2-bb78-44ed-9dbf-0d839757d9e7",
   "metadata": {},
   "outputs": [
    {
     "data": {
      "text/plain": [
       "str"
      ]
     },
     "execution_count": 47,
     "metadata": {},
     "output_type": "execute_result"
    }
   ],
   "source": [
    "type(name1)"
   ]
  },
  {
   "cell_type": "code",
   "execution_count": 48,
   "id": "fdcff298-3f8c-4c0e-acac-037f07b8ce4f",
   "metadata": {},
   "outputs": [],
   "source": [
    "name2 =\"\"\"Dajiba mane\"\"\""
   ]
  },
  {
   "cell_type": "code",
   "execution_count": 49,
   "id": "bc084b4a-e73e-413e-8157-debe6aa7cb8a",
   "metadata": {},
   "outputs": [
    {
     "ename": "SyntaxError",
     "evalue": "incomplete input (3906119878.py, line 1)",
     "output_type": "error",
     "traceback": [
      "\u001b[0;36m  Cell \u001b[0;32mIn[49], line 1\u001b[0;36m\u001b[0m\n\u001b[0;31m    name3 = ''' Dajiba mane'\u001b[0m\n\u001b[0m            ^\u001b[0m\n\u001b[0;31mSyntaxError\u001b[0m\u001b[0;31m:\u001b[0m incomplete input\n"
     ]
    }
   ],
   "source": [
    "name3 = ''' Dajiba mane'"
   ]
  },
  {
   "cell_type": "code",
   "execution_count": 50,
   "id": "20daf9a1-53f6-4898-a492-e00257a1f839",
   "metadata": {},
   "outputs": [],
   "source": [
    "# single quote in string as allowed\n",
    "# double quote in string as allowed"
   ]
  },
  {
   "cell_type": "code",
   "execution_count": 51,
   "id": "073866d8-cfca-44af-b161-55021ffae121",
   "metadata": {},
   "outputs": [
    {
     "name": "stdout",
     "output_type": "stream",
     "text": [
      "Dajiba mane\n",
      "bimaraj lad\n"
     ]
    }
   ],
   "source": [
    "print(\"Dajiba mane\")\n",
    "print(\"bimaraj lad\")"
   ]
  },
  {
   "cell_type": "code",
   "execution_count": null,
   "id": "6fd4eadc-eaf8-48f9-9f03-b83f19895f01",
   "metadata": {},
   "outputs": [],
   "source": []
  }
 ],
 "metadata": {
  "kernelspec": {
   "display_name": "Python 3 (ipykernel)",
   "language": "python",
   "name": "python3"
  },
  "language_info": {
   "codemirror_mode": {
    "name": "ipython",
    "version": 3
   },
   "file_extension": ".py",
   "mimetype": "text/x-python",
   "name": "python",
   "nbconvert_exporter": "python",
   "pygments_lexer": "ipython3",
   "version": "3.12.4"
  }
 },
 "nbformat": 4,
 "nbformat_minor": 5
}
